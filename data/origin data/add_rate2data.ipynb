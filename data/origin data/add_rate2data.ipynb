{
 "cells": [
  {
   "cell_type": "code",
   "execution_count": 72,
   "id": "b6cab762",
   "metadata": {
    "ExecuteTime": {
     "end_time": "2023-06-19T07:41:58.196122Z",
     "start_time": "2023-06-19T07:41:58.190161Z"
    }
   },
   "outputs": [],
   "source": [
    "import numpy as np\n",
    "import pandas as pd\n",
    "import math\n",
    "import torch\n",
    "import os\n",
    "import matplotlib.pyplot as plt\n",
    "from scipy.signal import hilbert,chirp\n",
    "from torch import nn\n",
    "from scipy.optimize import curve_fit"
   ]
  },
  {
   "cell_type": "code",
   "execution_count": null,
   "id": "d8e7ac61",
   "metadata": {},
   "outputs": [],
   "source": []
  },
  {
   "cell_type": "code",
   "execution_count": 73,
   "id": "3ac312ec",
   "metadata": {
    "ExecuteTime": {
     "end_time": "2023-06-19T07:41:59.080035Z",
     "start_time": "2023-06-19T07:41:58.976562Z"
    }
   },
   "outputs": [],
   "source": [
    "os.chdir(r'C:\\Users\\86136\\PycharmProjects\\pythonProject\\zy\\data\\sensordata_v3')\n",
    "file_chdir = os.getcwd() ##  获取当前路径\n",
    "file_name_list=[]\n",
    "file_list=[] \n",
    "for root,dirs,files in os.walk(file_chdir):  ## file_chdir :代表需要遍历的根文件夹  root :表示正在遍历的文件夹的名字（根/子）\n",
    "                                            ## dirs :记录正在遍历的文件夹下的子文件夹集合  files:记录正在遍历的文件夹中的文件集合(list形式)\n",
    "    for file in files:\n",
    "        if os.path.splitext(file)[-1] =='.csv': ## os.path.splitext()  分离文件名与扩展名；默认返回(fname,fextension)元组 切片后-1 表示后缀\n",
    "            file_name_list.append(file)\n",
    "            file_list.append(pd.read_csv(file,index_col=0))"
   ]
  },
  {
   "cell_type": "code",
   "execution_count": 74,
   "id": "9a4a81dc",
   "metadata": {
    "ExecuteTime": {
     "end_time": "2023-06-19T07:41:59.342629Z",
     "start_time": "2023-06-19T07:41:59.329664Z"
    }
   },
   "outputs": [],
   "source": [
    "## define  fitting function \n",
    "## NOtice    here b is 2b in paper fucntion  the exp(-bt) compare exp(-2bt) is small so dismiss\n",
    "###  and  the a param is 0,5  0.338 0468 and 0.395  they are fit from matlab  and  get a average value \n",
    "def  func1(t,b,d):\n",
    "    return  0.5*np.exp(-b*t)+d ##0.24*np.exp(-2*b*t)+0.4*np.exp(-b*t)+ d ##  b-d*t\n",
    "def  func2(t,b,d):\n",
    "    return  0.338*np.exp(-b*t)+d\n",
    "def  func3(t,b,d):\n",
    "    return  0.468*np.exp(-b*t)+d\n",
    "def  func4(t,b,d):\n",
    "    return  0.395*np.exp(-b*t)+d"
   ]
  },
  {
   "cell_type": "code",
   "execution_count": 75,
   "id": "359b064e",
   "metadata": {
    "ExecuteTime": {
     "end_time": "2023-06-19T07:41:59.885963Z",
     "start_time": "2023-06-19T07:41:59.866738Z"
    }
   },
   "outputs": [
    {
     "data": {
      "text/plain": [
       "array([0.  , 0.01, 0.02, 0.03, 0.04, 0.05, 0.06, 0.07, 0.08, 0.09, 0.1 ,\n",
       "       0.11, 0.12, 0.13, 0.14, 0.15, 0.16, 0.17, 0.18, 0.19, 0.2 , 0.21])"
      ]
     },
     "execution_count": 75,
     "metadata": {},
     "output_type": "execute_result"
    }
   ],
   "source": [
    "t =np.linspace(0,0.21,22) \n",
    "t"
   ]
  },
  {
   "cell_type": "code",
   "execution_count": 76,
   "id": "e815debe",
   "metadata": {
    "ExecuteTime": {
     "end_time": "2023-06-19T07:42:08.197495Z",
     "start_time": "2023-06-19T07:42:00.556701Z"
    }
   },
   "outputs": [],
   "source": [
    "for i in range(len(file_list)):\n",
    "    fitting0=file_list[i].iloc[:,:-1].transpose().idxmax()\n",
    "    df = pd.DataFrame(np.zeros((file_list[i].shape[0],22))) ## 22为保存数据长度\n",
    "    param_a =[]  ## a mean first paramter in fit function\n",
    "    param_b=[]  ## b mean second paramter in fit function\n",
    "    param_c=[]  ##c mean third paramter in fit function\n",
    "    for idx,num in enumerate(fitting0): \n",
    "        df.iloc[int(idx),0:22] = file_list[i].iloc[int(idx),int(num):int(num)+22]\n",
    "    df = df/(50-10*df)\n",
    "    y =np.log(df) \n",
    "#    exec('y.to_csv(\\'../with_rate/sensor{}.csv\\')'.format(i+1))\n",
    "    if i == 0:\n",
    "        data_div = math.ceil(y.shape[0]/50) ## 把数据长度切割一下 以免数据太多导致的内存爆炸\n",
    "        for k in range(data_div):\n",
    "            ll = min(50*(k+1),y.shape[0])\n",
    "            for j in range(50*k,ll): ##y.shape[0]\n",
    "                popt, pcov = curve_fit(func1, t, y.iloc[j,:]) ## ,maxfev=5000\n",
    "                param_a.append(popt[0])\n",
    "                param_b.append(popt[1])\n",
    "    #             param_c.append(popt[2])\n",
    "      \n",
    "    if i == 1:\n",
    "        data_div = math.ceil(y.shape[0]/50) ## 把数据长度切割一下 以免数据太多导致的内存爆炸\n",
    "        for k in range(data_div):\n",
    "            ll = min(50*(k+1),y.shape[0])\n",
    "            for j in range(50*k,ll): ##y.shape[0]\n",
    "                popt, pcov = curve_fit(func2, t, y.iloc[j,:]) ## ,maxfev=5000\n",
    "                param_a.append(popt[0])\n",
    "                param_b.append(popt[1])\n",
    "    if i == 2:\n",
    "        data_div = math.ceil(y.shape[0]/50) ## 把数据长度切割一下 以免数据太多导致的内存爆炸\n",
    "        for k in range(data_div):\n",
    "            ll = min(50*(k+1),y.shape[0])\n",
    "            for j in range(50*k,ll): ##y.shape[0]\n",
    "                popt, pcov = curve_fit(func3, t, y.iloc[j,:]) ## ,maxfev=5000\n",
    "                param_a.append(popt[0])\n",
    "                param_b.append(popt[1])\n",
    "    if i == 3:\n",
    "        data_div = math.ceil(y.shape[0]/50) ## 把数据长度切割一下 以免数据太多导致的内存爆炸\n",
    "        for k in range(data_div):\n",
    "            ll = min(50*(k+1),y.shape[0])\n",
    "            for j in range(50*k,ll): ##y.shape[0]\n",
    "                popt, pcov = curve_fit(func4, t, y.iloc[j,:]) ## ,maxfev=5000\n",
    "                param_a.append(popt[0])\n",
    "                param_b.append(popt[1])\n",
    "            \n",
    "        #param_b.extend('null' for _ in range(2254-100))\n",
    "    file_list[i].insert(70,'rate',param_a,allow_duplicates=False)  ## here param_a  is  0.5*np.exp(-b*t)+d  b\n",
    "    exec('file_list[i].to_csv(\\'../with_rate/sensor{}_rate.csv\\')'.format(i+1))"
   ]
  },
  {
   "cell_type": "code",
   "execution_count": null,
   "id": "48c70032",
   "metadata": {},
   "outputs": [],
   "source": []
  }
 ],
 "metadata": {
  "kernelspec": {
   "display_name": "Python 3 (ipykernel)",
   "language": "python",
   "name": "python3"
  },
  "language_info": {
   "codemirror_mode": {
    "name": "ipython",
    "version": 3
   },
   "file_extension": ".py",
   "mimetype": "text/x-python",
   "name": "python",
   "nbconvert_exporter": "python",
   "pygments_lexer": "ipython3",
   "version": "3.7.12"
  },
  "toc": {
   "base_numbering": 1,
   "nav_menu": {},
   "number_sections": true,
   "sideBar": true,
   "skip_h1_title": false,
   "title_cell": "Table of Contents",
   "title_sidebar": "Contents",
   "toc_cell": false,
   "toc_position": {},
   "toc_section_display": true,
   "toc_window_display": false
  }
 },
 "nbformat": 4,
 "nbformat_minor": 5
}
